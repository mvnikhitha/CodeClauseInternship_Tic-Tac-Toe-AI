{
  "nbformat": 4,
  "nbformat_minor": 0,
  "metadata": {
    "colab": {
      "provenance": []
    },
    "kernelspec": {
      "name": "python3",
      "display_name": "Python 3"
    },
    "language_info": {
      "name": "python"
    }
  },
  "cells": [
    {
      "cell_type": "code",
      "execution_count": 12,
      "metadata": {
        "id": "oBoC32uVZs-e"
      },
      "outputs": [],
      "source": [
        "import math\n",
        "from IPython.display import clear_output\n",
        "\n",
        "board = [' ' for _ in range(9)]"
      ]
    },
    {
      "cell_type": "code",
      "source": [
        "def print_board():\n",
        "    for i in range(3):\n",
        "        print(' | '.join(board[i*3:(i+1)*3]))\n",
        "        if i < 2:\n",
        "            print('--+---+--')\n"
      ],
      "metadata": {
        "id": "Dzl-ijk_acE5"
      },
      "execution_count": 13,
      "outputs": []
    },
    {
      "cell_type": "code",
      "source": [
        "def check_winner(b, player):\n",
        "    win_conditions = [\n",
        "        [0,1,2], [3,4,5], [6,7,8],\n",
        "        [0,3,6], [1,4,7], [2,5,8],\n",
        "        [0,4,8], [2,4,6]\n",
        "    ]\n",
        "    return any(all(b[i] == player for i in combo) for combo in win_conditions)"
      ],
      "metadata": {
        "id": "5uwo8K8taq4Z"
      },
      "execution_count": 14,
      "outputs": []
    },
    {
      "cell_type": "code",
      "source": [
        "def is_draw(b):\n",
        "    return ' ' not in b"
      ],
      "metadata": {
        "id": "djTC87hIaq1B"
      },
      "execution_count": 15,
      "outputs": []
    },
    {
      "cell_type": "code",
      "source": [
        "def available_moves(b):\n",
        "    return [i for i, spot in enumerate(b) if spot == ' ']\n"
      ],
      "metadata": {
        "id": "zIFdsL_aaqye"
      },
      "execution_count": 16,
      "outputs": []
    },
    {
      "cell_type": "code",
      "source": [
        "def minimax(b, depth, is_maximizing):\n",
        "    if check_winner(b, 'X'):\n",
        "        return 1\n",
        "    elif check_winner(b, 'O'):\n",
        "        return -1\n",
        "    elif is_draw(b):\n",
        "        return 0\n",
        "\n",
        "    if is_maximizing:\n",
        "        best_score = -math.inf\n",
        "        for move in available_moves(b):\n",
        "            b[move] = 'X'\n",
        "            score = minimax(b, depth + 1, False)\n",
        "            b[move] = ' '\n",
        "            best_score = max(score, best_score)\n",
        "        return best_score\n",
        "    else:\n",
        "        best_score = math.inf\n",
        "        for move in available_moves(b):\n",
        "            b[move] = 'O'\n",
        "            score = minimax(b, depth + 1, True)\n",
        "            b[move] = ' '\n",
        "            best_score = min(score, best_score)\n",
        "        return best_score"
      ],
      "metadata": {
        "id": "-OEyz1ZIaqwI"
      },
      "execution_count": 17,
      "outputs": []
    },
    {
      "cell_type": "code",
      "source": [
        "def ai_move():\n",
        "    best_score = -math.inf\n",
        "    move = None\n",
        "    for i in available_moves(board):\n",
        "        board[i] = 'X'\n",
        "        score = minimax(board, 0, False)\n",
        "        board[i] = ' '\n",
        "        if score > best_score:\n",
        "            best_score = score\n",
        "            move = i\n",
        "    board[move] = 'X'"
      ],
      "metadata": {
        "id": "jsW1lyeCaqtj"
      },
      "execution_count": 18,
      "outputs": []
    },
    {
      "cell_type": "code",
      "source": [
        "def play_game():\n",
        "    print(\"Welcome to Tic-Tac-Toe!\")\n",
        "    print(\"You are O. AI is X.\")\n",
        "    print_board()\n",
        "\n",
        "    while True:\n",
        "        try:\n",
        "            move = int(input(\"Enter your move (1–9): \")) - 1\n",
        "            if move < 0 or move > 8 or board[move] != ' ':\n",
        "                print(\"Invalid move. Try again.\")\n",
        "                continue\n",
        "        except:\n",
        "            print(\"Please enter a valid number.\")\n",
        "            continue\n",
        "\n",
        "        board[move] = 'O'\n",
        "        clear_output(wait=True)\n",
        "        print_board()\n",
        "\n",
        "        if check_winner(board, 'O'):\n",
        "            print(\"🎉 You win!\")\n",
        "            break\n",
        "        elif is_draw(board):\n",
        "            print(\"🤝 It's a draw!\")\n",
        "            break\n",
        "\n",
        "        ai_move()\n",
        "        clear_output(wait=True)\n",
        "        print_board()\n",
        "\n",
        "        if check_winner(board, 'X'):\n",
        "            print(\"💻 AI wins!\")\n",
        "            break\n",
        "        elif is_draw(board):\n",
        "            print(\"🤝 It's a draw!\")\n",
        "            break"
      ],
      "metadata": {
        "id": "oehFkqcmaqrM"
      },
      "execution_count": 19,
      "outputs": []
    },
    {
      "cell_type": "code",
      "source": [
        "play_game()\n"
      ],
      "metadata": {
        "colab": {
          "base_uri": "https://localhost:8080/"
        },
        "id": "Hl4QgZy1aqkw",
        "outputId": "3a411a2a-1b47-4cdc-d064-64cecac9d4e1"
      },
      "execution_count": 20,
      "outputs": [
        {
          "output_type": "stream",
          "name": "stdout",
          "text": [
            "X | O | O\n",
            "--+---+--\n",
            "O | O | X\n",
            "--+---+--\n",
            "X | X | O\n",
            "🤝 It's a draw!\n"
          ]
        }
      ]
    }
  ]
}